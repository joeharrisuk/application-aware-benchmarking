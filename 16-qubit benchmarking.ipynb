{
 "cells": [
  {
   "cell_type": "code",
   "execution_count": 1,
   "id": "4eaea789-21d8-47d0-8325-020d03f29d0c",
   "metadata": {},
   "outputs": [],
   "source": [
    "from qiskit import QuantumCircuit, transpile\n",
    "from qiskit.quantum_info import Pauli\n",
    "from qiskit.circuit.library import HamiltonianGate, UnitaryGate\n",
    "import numpy as np\n",
    "pi = np.pi\n",
    "\n",
    "from qiskit.primitives import StatevectorEstimator\n",
    "estimator_exact = StatevectorEstimator()\n",
    "\n",
    "from IPython.display import clear_output\n",
    "import matplotlib.pyplot as plt\n",
    "\n",
    "from circuit_functions import ki_circ_as_list, bm_circ_as_list, gates_list_to_qc, single_qubit_pauli_rotation_in_generic_form\n",
    "from circuit_functions import two_qubit_pauli_rotation_in_generic_form, gates_list_to_transpiled_circuit, connected_qubits"
   ]
  },
  {
   "cell_type": "code",
   "execution_count": 2,
   "id": "25bd7987-e3fd-4500-8f36-69adf03d0ebc",
   "metadata": {},
   "outputs": [],
   "source": [
    "coupling_map = np.load('calibration_data/coupling_map.npy')"
   ]
  },
  {
   "cell_type": "markdown",
   "id": "ad402742-ba2f-44a4-9fcd-193b96f4392d",
   "metadata": {},
   "source": [
    "# Set parameters"
   ]
  },
  {
   "cell_type": "code",
   "execution_count": 3,
   "id": "4a8afa7e-2fb9-4b8b-8b1d-5d1a7bb62253",
   "metadata": {},
   "outputs": [
    {
     "name": "stdout",
     "output_type": "stream",
     "text": [
      "device_qubits = [62, 61, 60, 53, 59, 72, 63, 58, 71, 77, 64, 41, 57, 40, 39, 81]\n"
     ]
    }
   ],
   "source": [
    "num_qubits = 16\n",
    "\n",
    "# central_qubit = 62\n",
    "# device_qubits = list([central_qubit])\n",
    "# for i in range(num_qubits-1):\n",
    "#     connected_qubits_list = []\n",
    "#     for q in device_qubits:\n",
    "#         connected_qubits_list = connected_qubits_list + connected_qubits(q, coupling_map)\n",
    "#     connected_qubits_list = [q for q in connected_qubits_list if q not in device_qubits]\n",
    "#     new_qubit = np.random.choice(connected_qubits_list)\n",
    "#     device_qubits.append(new_qubit)\n",
    "\n",
    "device_qubits = [62, 61, 60, 53, 59, 72, 63, 58, 71, 77, 64, 41, 57, 40, 39, 81]\n",
    "print('device_qubits =', device_qubits)\n",
    "\n",
    "circuit_layers = [1,5,10,15,20]\n",
    "\n",
    "Ls = np.load('calibration_data/layers.npy')\n",
    "gate_layers = [[],[],[]]\n",
    "for i in range(3):\n",
    "    for q0, q1 in Ls[i]:\n",
    "        if q0 in device_qubits and q1 in device_qubits:\n",
    "            gate_layers[i].append([device_qubits.index(q0), device_qubits.index(q1)])\n",
    "\n",
    "nearest_neighbour_layers = gate_layers\n",
    "\n",
    "num_benchmarking_reps = 10\n",
    "observable = 'I'*device_qubits.index(62) + 'Z' + 'I'*(num_qubits-device_qubits.index(62)-1)\n",
    "observable = observable[::-1]\n",
    "\n",
    "qubits_to_correct = [device_qubits.index(62)]"
   ]
  },
  {
   "cell_type": "markdown",
   "id": "03d075c0-828c-49a0-9ddb-a54589c17e78",
   "metadata": {},
   "source": [
    "# Circuit generation"
   ]
  },
  {
   "cell_type": "code",
   "execution_count": 4,
   "id": "87d936aa-e1ea-4641-b759-e45be7ce1890",
   "metadata": {},
   "outputs": [
    {
     "name": "stdout",
     "output_type": "stream",
     "text": [
      "Done!\n"
     ]
    }
   ],
   "source": [
    "ki_circs_list = []\n",
    "for i in range(5):\n",
    "    ki_gates_list = ki_circ_as_list(num_qubits, circuit_layers[i], nearest_neighbour_layers, 0.01, 0.01, qubits_to_correct)\n",
    "    ki_trans = gates_list_to_transpiled_circuit(ki_gates_list, num_qubits)\n",
    "    ki_circs_list.append(ki_trans)\n",
    "    \n",
    "    clear_output(wait=True)\n",
    "    print(i)\n",
    "clear_output(wait=True)\n",
    "print('Done!')"
   ]
  },
  {
   "cell_type": "code",
   "execution_count": 5,
   "id": "b58d657e-cf0a-4109-8987-cbc217013317",
   "metadata": {},
   "outputs": [
    {
     "name": "stdout",
     "output_type": "stream",
     "text": [
      "Done!\n"
     ]
    }
   ],
   "source": [
    "# bm_circs_list = [[],[],[],[],[]]\n",
    "# for i in range(5):\n",
    "#     for j in range(10):\n",
    "#         bm_gates_list = bm_circ_as_list(num_qubits, circuit_layers[i], nearest_neighbour_layers, qubits_to_correct)\n",
    "#         bm_trans = gates_list_to_transpiled_circuit(bm_gates_list, num_qubits)\n",
    "#         bm_circs_list[i].append(bm_trans)\n",
    "        \n",
    "#         clear_output(wait=True)\n",
    "#         print(i,j)\n",
    "clear_output(wait=True)\n",
    "print('Done!')"
   ]
  },
  {
   "cell_type": "markdown",
   "id": "97f0c70d-93b9-43ad-9f1f-a60c4c601f72",
   "metadata": {},
   "source": [
    "# Exact simulation of KI circuits"
   ]
  },
  {
   "cell_type": "code",
   "execution_count": 6,
   "id": "4e9e4f11-c4e4-41e0-a122-0f35578bc37a",
   "metadata": {},
   "outputs": [
    {
     "name": "stdout",
     "output_type": "stream",
     "text": [
      "[array(0.99995), array(0.99875251), array(0.99504108), array(0.98895765), array(0.98065146)]\n"
     ]
    }
   ],
   "source": [
    "ki_exact_vals = [estimator_exact.run([(ki, observable)]).result()[0].data.evs for ki in ki_circs_list]\n",
    "print(ki_exact_vals)"
   ]
  },
  {
   "cell_type": "markdown",
   "id": "23fa4feb-6d3a-4b7f-9a43-b499171c7866",
   "metadata": {},
   "source": [
    "# Our benchmarking on hardware"
   ]
  },
  {
   "cell_type": "code",
   "execution_count": 7,
   "id": "82cc254e-db6a-4d6c-9f59-0ee4e1f5f133",
   "metadata": {},
   "outputs": [],
   "source": [
    "from qiskit_ibm_runtime import QiskitRuntimeService, EstimatorV2\n",
    "\n",
    "# service = QiskitRuntimeService(\n",
    "#     channel='ibm_quantum',\n",
    "#     instance='',\n",
    "#     token=''\n",
    "# )\n",
    "\n",
    "hardware = service.backend('ibm_brisbane')"
   ]
  },
  {
   "cell_type": "code",
   "execution_count": 8,
   "id": "35cd338a-4fe3-4b3e-84cb-01718d30de1a",
   "metadata": {},
   "outputs": [],
   "source": [
    "# 'Transpile' observable\n",
    "observable_trans = 'I'*62 + 'Z' + 'I'*(127-62-1)\n",
    "observable_trans = observable_trans[::-1]"
   ]
  },
  {
   "cell_type": "code",
   "execution_count": 9,
   "id": "8285e840-fff7-40a0-8e99-bcbaf0bf2964",
   "metadata": {},
   "outputs": [],
   "source": [
    "# Transpile kicked Ising circuits for hardware\n",
    "ki_circs_list_trans = []\n",
    "for qc in ki_circs_list:\n",
    "    qc_trans = transpile(qc, hardware, initial_layout=device_qubits, optimization_level=0)\n",
    "    ki_circs_list_trans.append(qc_trans)"
   ]
  },
  {
   "cell_type": "code",
   "execution_count": 10,
   "id": "685451b7-f065-48ae-9019-fa32a73b9b02",
   "metadata": {},
   "outputs": [
    {
     "name": "stdout",
     "output_type": "stream",
     "text": [
      "4 9\n"
     ]
    }
   ],
   "source": [
    "# Transpile benchmarking circuits for hardware\n",
    "bm_circs_list_trans = []\n",
    "for i in range(5):\n",
    "    for j in range(10):\n",
    "        qc = bm_circs_list[i][j]\n",
    "        qc_trans = transpile(qc, hardware, initial_layout=device_qubits, optimization_level=0)\n",
    "        bm_circs_list_trans.append(qc_trans)\n",
    "\n",
    "        clear_output(wait=True)\n",
    "        print(i,j)"
   ]
  },
  {
   "cell_type": "code",
   "execution_count": 11,
   "id": "cccf76b9-8ade-45e3-98d7-02665deb1fdd",
   "metadata": {},
   "outputs": [],
   "source": [
    "circs_to_submit = ki_circs_list_trans + bm_circs_list_trans"
   ]
  },
  {
   "cell_type": "code",
   "execution_count": 12,
   "id": "baa0c9e1-d5e5-4c85-b364-6ae9223d342b",
   "metadata": {},
   "outputs": [
    {
     "data": {
      "text/plain": [
       "True"
      ]
     },
     "execution_count": 12,
     "metadata": {},
     "output_type": "execute_result"
    }
   ],
   "source": [
    "len(circs_to_submit) == 55 # 5 KI + 5*10 BM"
   ]
  },
  {
   "cell_type": "code",
   "execution_count": 13,
   "id": "0f97d69c-0dfe-47ec-b2d9-67cb201f0c42",
   "metadata": {},
   "outputs": [],
   "source": [
    "# Submit to hardware:\n",
    "\n",
    "from qiskit.transpiler.preset_passmanagers import generate_preset_pass_manager\n",
    "pm = generate_preset_pass_manager(optimization_level=0, backend=hardware)\n",
    "circs_to_submit = [pm.run(qc) for qc in circs_to_submit]\n",
    "\n",
    "# estimator_hardware = EstimatorV2(mode=hardware)\n",
    "# job = estimator_hardware.run([(qc, observable_trans) for qc in circs_to_submit])\n",
    "# print(job.job_id())"
   ]
  },
  {
   "cell_type": "code",
   "execution_count": 14,
   "id": "b1b66965-5dd8-4321-bdfe-62f872be2bfd",
   "metadata": {},
   "outputs": [],
   "source": [
    "# Fetch job results and save them\n",
    "\n",
    "# result = job.result()\n",
    "# hardware_noisy_vals = [abs(float(x.data.evs)) for x in result] \n",
    "# np.save('mar12.npy', hardware_noisy_vals)"
   ]
  },
  {
   "cell_type": "markdown",
   "id": "c4625792-129a-4e30-9d89-341016333dbc",
   "metadata": {},
   "source": [
    "# Import and combine job data"
   ]
  },
  {
   "cell_type": "code",
   "execution_count": 15,
   "id": "3df8fa70-7890-48c0-9b9d-52d68c9b237c",
   "metadata": {},
   "outputs": [],
   "source": [
    "data1 = list(np.load('job_data/16q_jan30.npy'))\n",
    "ki1, bm1 = data1[:5], data1[5:]\n",
    "\n",
    "data2 = list(np.load('job_data/16q_mar10.npy'))\n",
    "ki2, bm2 = data2[:5], data2[5:]\n",
    "\n",
    "data3 = list(np.load('job_data/16q_mar12.npy'))\n",
    "ki3, bm3 = data3[:5], data3[5:]"
   ]
  },
  {
   "cell_type": "code",
   "execution_count": 16,
   "id": "c052c8b8-d9fb-4c23-bb4d-04ca0336c3bd",
   "metadata": {},
   "outputs": [],
   "source": [
    "kis = [ki1, ki2, ki3]\n",
    "kis_avgs = [np.mean([kis[i][j] for i in range(3)]) for j in range(5)]\n",
    "kis_stds = [np.std([kis[i][j] for i in range(3)]) for j in range(5)]\n",
    "kis_yerr = [kis_stds, kis_stds]"
   ]
  },
  {
   "cell_type": "code",
   "execution_count": 17,
   "id": "b257698a-891a-4477-955b-62f2b2b762e6",
   "metadata": {},
   "outputs": [],
   "source": [
    "bms = [bm1, bm2, bm3]\n",
    "bms_avgs = []\n",
    "bms_stds = []\n",
    "for i in range(5):\n",
    "    bm_list = []\n",
    "    for j in range(3):\n",
    "        bm_list += bms[j][i*num_benchmarking_reps:(i+1)*num_benchmarking_reps]\n",
    "    bms_avgs.append(np.mean(bm_list))\n",
    "    bms_stds.append(np.std(bm_list))\n",
    "\n",
    "bms_yerr = [bms_stds, bms_stds]"
   ]
  },
  {
   "cell_type": "markdown",
   "id": "7daabf22-17ae-4117-ae32-fd6aa99493f3",
   "metadata": {},
   "source": [
    "# RB prediction using hardware data"
   ]
  },
  {
   "cell_type": "code",
   "execution_count": 18,
   "id": "c3576f13-5611-4143-bb7c-08ad256d8c0e",
   "metadata": {},
   "outputs": [],
   "source": [
    "from rb_prediction import estimate_rb_fidelity\n",
    "filenames = [\n",
    "    'ibm_brisbane_calibrations_2025-01-30T09_58_43Z.csv',\n",
    "    'ibm_brisbane_calibrations_2025-03-10T08_32_38Z.csv',\n",
    "    'ibm_brisbane_calibrations_2025-03-12T15_19_10Z.csv'\n",
    "]\n",
    "rbs = []\n",
    "for file in filenames:\n",
    "    rb_fidelities = [estimate_rb_fidelity(qc, 'calibration_data/'+file, device_qubits, measured_qubits=[device_qubits.index(62)]) for qc in ki_circs_list]\n",
    "    rbs.append(rb_fidelities)"
   ]
  },
  {
   "cell_type": "code",
   "execution_count": 19,
   "id": "ff660375-5152-4068-a3aa-d7e2cc98313c",
   "metadata": {},
   "outputs": [],
   "source": [
    "rbs_avgs = [np.mean([rbs[i][j] for i in range(3)]) for j in range(5)]\n",
    "rbs_stds = [np.std([rbs[i][j] for i in range(3)]) for j in range(5)]\n",
    "rbs_yerr = [rbs_stds, rbs_stds]"
   ]
  },
  {
   "cell_type": "markdown",
   "id": "1df197f8-89ff-4292-85f7-f635f0bfed6c",
   "metadata": {},
   "source": [
    "# Plot results"
   ]
  },
  {
   "cell_type": "code",
   "execution_count": 20,
   "id": "0dfef49b-56d9-4000-9190-5ef53875fe13",
   "metadata": {},
   "outputs": [
    {
     "data": {
      "image/png": "[encoded data removed]",
      "text/plain": [
       "<Figure size 750x375 with 1 Axes>"
      ]
     },
     "metadata": {},
     "output_type": "display_data"
    }
   ],
   "source": [
    "plt.rcParams['text.usetex'] = True\n",
    "plt.rcParams['text.latex.preamble'] = r'\\usepackage{amsmath} \\usepackage{amssymb}'\n",
    "\n",
    "plt.figure(dpi=150, figsize=(5,2.5))\n",
    "\n",
    "plt.errorbar(circuit_layers, rbs_avgs, yerr=rbs_yerr, marker='x', color='tab:green', linestyle='--', capsize=3, label=r'Prediction from RB gate error data $\\pm 1\\sigma$')\n",
    "plt.errorbar(circuit_layers, bms_avgs, yerr=bms_yerr, marker='x', color='tab:blue', capsize=3, label=r'Benchmarking circuits $\\pm 1\\sigma$')\n",
    "plt.errorbar(circuit_layers, kis_avgs, yerr=kis_yerr, marker='x', color='tab:orange', capsize=3, label=r'Kicked Ising circuits $\\pm 1\\sigma$')\n",
    "\n",
    "plt.xlabel('Trotter layers')\n",
    "plt.ylabel(r'$ \\langle O_\\text{noisy} \\rangle / \\langle O_\\text{ideal} \\rangle$')\n",
    "\n",
    "handles, labels = plt.gca().get_legend_handles_labels() \n",
    "order = [1,2,0]\n",
    "plt.legend([handles[idx] for idx in order],[labels[idx] for idx in order])\n",
    "plt.ylim([0,1])\n",
    "plt.xticks([1,5,10,15,20])\n",
    "\n",
    "plt.show()"
   ]
  }
 ],
 "metadata": {
  "kernelspec": {
   "display_name": "Python 3 (ipykernel)",
   "language": "python",
   "name": "python3"
  },
  "language_info": {
   "codemirror_mode": {
    "name": "ipython",
    "version": 3
   },
   "file_extension": ".py",
   "mimetype": "text/x-python",
   "name": "python",
   "nbconvert_exporter": "python",
   "pygments_lexer": "ipython3",
   "version": "3.12.7"
  }
 },
 "nbformat": 4,
 "nbformat_minor": 5
}
