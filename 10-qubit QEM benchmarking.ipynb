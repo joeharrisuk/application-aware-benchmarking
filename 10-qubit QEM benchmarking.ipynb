{
 "cells": [
  {
   "cell_type": "code",
   "execution_count": 1,
   "id": "6d33c18e-8f6e-4617-baf3-9c24fe3f5fef",
   "metadata": {},
   "outputs": [],
   "source": [
    "from qiskit import QuantumCircuit\n",
    "from qiskit.dagcircuit import DAGCircuit\n",
    "from qiskit.circuit import QuantumRegister, Gate\n",
    "from qiskit.circuit.library import CXGate, ECRGate\n",
    "from qiskit.transpiler import PassManager\n",
    "from qiskit.transpiler.basepasses import TransformationPass\n",
    "from qiskit.quantum_info import Operator, pauli_basis\n",
    "from qiskit.converters import circuit_to_dag\n",
    "from qiskit.primitives import StatevectorEstimator\n",
    "estimator_exact = StatevectorEstimator()\n",
    "\n",
    "import numpy as np\n",
    "pi = np.pi\n",
    "\n",
    "from typing import Iterable, Optional\n",
    "\n",
    "from IPython.display import clear_output\n",
    "import matplotlib.pyplot as plt\n",
    "\n",
    "from circuit_functions import ki_circ_as_list, bm_circ_as_list, gates_list_to_qc, single_qubit_pauli_rotation_in_generic_form\n",
    "from circuit_functions import two_qubit_pauli_rotation_in_generic_form, gates_list_to_transpiled_circuit, connected_qubits\n",
    "\n",
    "basis_gates = ['ecr','sx','x','rz']"
   ]
  },
  {
   "cell_type": "code",
   "execution_count": 2,
   "id": "78e82a6c-c521-4657-ab68-b54288555e91",
   "metadata": {},
   "outputs": [],
   "source": [
    "coupling_map = np.load('calibration_data/coupling_map.npy')"
   ]
  },
  {
   "cell_type": "markdown",
   "id": "72bea8bd-efc6-4772-8d84-36daa4661215",
   "metadata": {},
   "source": [
    "# Experiment parameters"
   ]
  },
  {
   "cell_type": "code",
   "execution_count": 3,
   "id": "e1ffa9f1-f45e-49ae-bf15-7974636ac91a",
   "metadata": {},
   "outputs": [
    {
     "name": "stdout",
     "output_type": "stream",
     "text": [
      "device_qubits = [62, 63, 61, 64, 65, 54, 72, 66, 73, 45]\n"
     ]
    }
   ],
   "source": [
    "num_qubits = 10\n",
    "\n",
    "central_qubit = 62\n",
    "# device_qubits = list([central_qubit])\n",
    "# for i in range(num_qubits-1):\n",
    "#     connected_qubits_list = []\n",
    "#     for q in device_qubits:\n",
    "#         connected_qubits_list = connected_qubits_list + connected_qubits(q, coupling_map)\n",
    "#     connected_qubits_list = [q for q in connected_qubits_list if q not in device_qubits]\n",
    "#     new_qubit = np.random.choice(connected_qubits_list)\n",
    "#     device_qubits.append(new_qubit)\n",
    "\n",
    "device_qubits = [62, 63, 61, 64, 65, 54, 72, 66, 73, 45]\n",
    "\n",
    "print('device_qubits =', device_qubits)\n",
    "\n",
    "circuit_layers = [1,5,10,20]\n",
    "num_different_layers = len(circuit_layers)\n",
    "\n",
    "Ls = np.load('calibration_data/layers.npy')\n",
    "gate_layers = [[],[],[]]\n",
    "for i in range(3):\n",
    "    for q0, q1 in Ls[i]:\n",
    "        if q0 in device_qubits and q1 in device_qubits:\n",
    "            gate_layers[i].append([device_qubits.index(q0), device_qubits.index(q1)])\n",
    "\n",
    "nearest_neighbour_layers = gate_layers\n",
    "\n",
    "num_benchmarking_reps = 10\n",
    "observable = 'I'*device_qubits.index(62) + 'Z' + 'I'*(num_qubits-device_qubits.index(62)-1)\n",
    "observable = observable[::-1]\n",
    "\n",
    "qubits_to_correct = [device_qubits.index(62)]\n",
    "\n",
    "\n",
    "benchmarking_circuits_per_layer = 10\n",
    "\n",
    "noise_factors = [1,3,5]\n",
    "num_noise_factors = len(noise_factors)\n",
    "\n",
    "pauli_twirling_reps = 25"
   ]
  },
  {
   "cell_type": "markdown",
   "id": "f74ba674-5c05-400f-b380-11b8ff2c98b8",
   "metadata": {},
   "source": [
    "# Set up noisy estimator"
   ]
  },
  {
   "cell_type": "code",
   "execution_count": 4,
   "id": "dad5ccde-6d79-46f7-885b-7812cbea150a",
   "metadata": {},
   "outputs": [],
   "source": [
    "from qiskit_aer.primitives import EstimatorV2 as Estimator\n",
    "from qiskit_aer.noise import NoiseModel, depolarizing_error\n",
    "from rb_prediction import calibration_csv_to_dict\n",
    "\n",
    "\n",
    "# Create an empty noise model\n",
    "noise_model = NoiseModel()\n",
    "filename = 'calibration_data/ibm_brisbane_calibrations_2025-03-12T15_19_10Z.csv'\n",
    "errors = calibration_csv_to_dict(filename, device_qubits)"
   ]
  },
  {
   "cell_type": "code",
   "execution_count": 5,
   "id": "ebff0a1b-7192-48f7-989a-42e9c7c72b64",
   "metadata": {},
   "outputs": [],
   "source": [
    "for single_qubit_gate in ['sx','x']:\n",
    "    for q in range(num_qubits):\n",
    "        error = depolarizing_error(errors[single_qubit_gate][q], 1)\n",
    "        noise_model.add_quantum_error(error, [single_qubit_gate], [q])\n",
    "\n",
    "for layer in gate_layers:\n",
    "    for q0, q1 in layer:\n",
    "        error = depolarizing_error(errors['ecr'][(q0, q1)], 2)\n",
    "        noise_model.add_quantum_error(error, ['ecr'], [q0, q1])"
   ]
  },
  {
   "cell_type": "code",
   "execution_count": 6,
   "id": "724e109c-7363-43c8-98fc-7e16e32361fb",
   "metadata": {},
   "outputs": [],
   "source": [
    "estimator_noisy = Estimator(\n",
    "        options={\n",
    "            'run_options': {'seed': 0},\n",
    "            'backend_options': {'noise_model': noise_model, 'shots': 1024}\n",
    "        }\n",
    "    )"
   ]
  },
  {
   "cell_type": "code",
   "execution_count": 7,
   "id": "4fd5cf31-5bd5-4225-8000-fd396f3705c4",
   "metadata": {},
   "outputs": [
    {
     "name": "stdout",
     "output_type": "stream",
     "text": [
      "Options(default_precision=0.0, backend_options={'noise_model': <NoiseModel on ['sx', 'x', 'ecr']>, 'shots': 1024}, run_options={'seed': 0})\n"
     ]
    }
   ],
   "source": [
    "print(estimator_noisy.options)"
   ]
  },
  {
   "cell_type": "markdown",
   "id": "e0da0818-4bee-4b41-b9d1-7cebd532f2e5",
   "metadata": {},
   "source": [
    "# Building the passes"
   ]
  },
  {
   "cell_type": "code",
   "execution_count": 8,
   "id": "483fe03c-fad6-49e1-b72b-cc41ec0bb3a9",
   "metadata": {},
   "outputs": [],
   "source": [
    "# Pauli twirling: taken from https://docs.quantum.ibm.com/guides/custom-transpiler-pass\n",
    "\n",
    "class PauliTwirl(TransformationPass):\n",
    "    \"\"\"Add Pauli twirls to two-qubit gates.\"\"\"\n",
    " \n",
    "    def __init__(\n",
    "        self,\n",
    "        gates_to_twirl: Optional[Iterable[Gate]] = None,\n",
    "    ):\n",
    "        \"\"\"\n",
    "        Args:\n",
    "            gates_to_twirl: Names of gates to twirl. The default behavior is to twirl all\n",
    "                two-qubit basis gates, `cx` and `ecr` for IBM backends.\n",
    "        \"\"\"\n",
    "        if gates_to_twirl is None:\n",
    "            gates_to_twirl = [CXGate(), ECRGate()]\n",
    "        self.gates_to_twirl = gates_to_twirl\n",
    "        self.build_twirl_set()\n",
    "        super().__init__()\n",
    " \n",
    "    def build_twirl_set(self):\n",
    "        \"\"\"\n",
    "        Build a set of Paulis to twirl for each gate and store internally as .twirl_set.\n",
    "        \"\"\"\n",
    "        self.twirl_set = {}\n",
    " \n",
    "        # iterate through gates to be twirled\n",
    "        for twirl_gate in self.gates_to_twirl:\n",
    "            twirl_list = []\n",
    " \n",
    "            # iterate through Paulis on left of gate to twirl\n",
    "            for pauli_left in pauli_basis(2):\n",
    "                # iterate through Paulis on right of gate to twirl\n",
    "                for pauli_right in pauli_basis(2):\n",
    "                    # save pairs that produce identical operation as gate to twirl\n",
    "                    if (Operator(pauli_left) @ Operator(twirl_gate)).equiv(\n",
    "                        Operator(twirl_gate) @ pauli_right\n",
    "                    ):\n",
    "                        twirl_list.append((pauli_left, pauli_right))\n",
    " \n",
    "            self.twirl_set[twirl_gate.name] = twirl_list\n",
    " \n",
    "    def run(\n",
    "        self,\n",
    "        dag: DAGCircuit,\n",
    "    ) -> DAGCircuit:\n",
    "        # collect all nodes in DAG and proceed if it is to be twirled\n",
    "        twirling_gate_classes = tuple(\n",
    "            gate.base_class for gate in self.gates_to_twirl\n",
    "        )\n",
    "        for node in dag.op_nodes():\n",
    "            if not isinstance(node.op, twirling_gate_classes):\n",
    "                continue\n",
    " \n",
    "            # random integer to select Pauli twirl pair\n",
    "            pauli_index = np.random.randint(\n",
    "                0, len(self.twirl_set[node.op.name])\n",
    "            )\n",
    "            twirl_pair = self.twirl_set[node.op.name][pauli_index]\n",
    " \n",
    "            # instantiate mini_dag and attach quantum register\n",
    "            mini_dag = DAGCircuit()\n",
    "            register = QuantumRegister(2)\n",
    "            mini_dag.add_qreg(register)\n",
    " \n",
    "            # apply left Pauli, gate to twirl, and right Pauli to empty mini-DAG\n",
    "            mini_dag.apply_operation_back(\n",
    "                twirl_pair[0].to_instruction(), [register[0], register[1]]\n",
    "            )\n",
    "            mini_dag.apply_operation_back(node.op, [register[0], register[1]])\n",
    "            mini_dag.apply_operation_back(\n",
    "                twirl_pair[1].to_instruction(), [register[0], register[1]]\n",
    "            )\n",
    " \n",
    "            # substitute gate to twirl node with twirling mini-DAG\n",
    "            dag.substitute_node_with_dag(node, mini_dag)\n",
    " \n",
    "        return dag"
   ]
  },
  {
   "cell_type": "code",
   "execution_count": 9,
   "id": "3f1633ac-e584-4163-83fc-05851276c790",
   "metadata": {},
   "outputs": [],
   "source": [
    "# Noise amplification\n",
    "\n",
    "class AmplifyNoise(TransformationPass):\n",
    "    def __init__(self, n):\n",
    "        super().__init__()\n",
    "        if n % 2 == 0:\n",
    "            raise ValueError(\"n must be an odd integer.\")\n",
    "        self.n = n\n",
    "\n",
    "    def run(self, dag):\n",
    "        for node in dag.two_qubit_ops():\n",
    "            original_gate = node.op\n",
    "            qubits = node.qargs\n",
    "\n",
    "            # Create the transformation circuit\n",
    "            qc = QuantumCircuit(2)\n",
    "            qc.append(original_gate, [0, 1])\n",
    "            dagger_gate = original_gate.inverse()\n",
    "            for _ in range(int((self.n-1)/2)):\n",
    "                qc.append(dagger_gate, [0, 1])\n",
    "                qc.append(original_gate, [0, 1])\n",
    "\n",
    "            # Convert to a DAGCircuit for replacement\n",
    "            replacement_dag = circuit_to_dag(qc)\n",
    "\n",
    "            # Substitute the original node with the new DAGCircuit\n",
    "            dag.substitute_node_with_dag(node, replacement_dag)\n",
    "\n",
    "        return dag\n"
   ]
  },
  {
   "cell_type": "code",
   "execution_count": 10,
   "id": "9754c038-1a01-42a3-9d23-37f837c1c45a",
   "metadata": {},
   "outputs": [],
   "source": [
    "# Amplify noise then apply Pauli Twirling\n",
    "\n",
    "pass_managers = [\n",
    "    PassManager([\n",
    "        AmplifyNoise(factor), \n",
    "        PauliTwirl(), \n",
    "    ]) \n",
    "    for factor in noise_factors]"
   ]
  },
  {
   "cell_type": "markdown",
   "id": "8e4abdd5-11fd-46d6-809c-8a1f1819f08b",
   "metadata": {},
   "source": [
    "# Minimiser to perform ZNE"
   ]
  },
  {
   "cell_type": "code",
   "execution_count": 11,
   "id": "a22758c5-7cdc-4193-9451-ac741347c3ef",
   "metadata": {},
   "outputs": [],
   "source": [
    "# Function to perform ZNE\n",
    "\n",
    "import numpy as np\n",
    "from scipy.optimize import curve_fit\n",
    "\n",
    "def exponential_fit(x,a,b):\n",
    "    return a * np.exp(b * x)\n",
    "\n",
    "def estimate_f0(f1,f2,f3):\n",
    "    x_data = np.array(noise_factors)\n",
    "    y_data = np.array([f1,f2,f3])\n",
    "    popt, _ = curve_fit(exponential_fit, x_data, y_data)\n",
    "    a, b = popt\n",
    "    return a"
   ]
  },
  {
   "cell_type": "markdown",
   "id": "7c67b7b0-4964-4dbc-ac9f-48c377210bac",
   "metadata": {},
   "source": [
    "# Simulate kicked-Ising circuits"
   ]
  },
  {
   "cell_type": "code",
   "execution_count": 12,
   "id": "c4c63e1d-572d-40e4-b426-4d3be5cfccda",
   "metadata": {},
   "outputs": [
    {
     "name": "stdout",
     "output_type": "stream",
     "text": [
      "Done!\n"
     ]
    }
   ],
   "source": [
    "KI_circuits = []\n",
    "\n",
    "for i in range(num_different_layers):\n",
    "    ki_gates_list = ki_circ_as_list(num_qubits, circuit_layers[i], nearest_neighbour_layers, 0.01, 0.01, qubits_to_correct)\n",
    "    ki_trans = gates_list_to_transpiled_circuit(ki_gates_list, num_qubits)\n",
    "    KI_circuits.append(ki_trans)\n",
    "    clear_output(wait=True)\n",
    "    print(i)\n",
    "clear_output(wait=True)\n",
    "print('Done!')"
   ]
  },
  {
   "cell_type": "code",
   "execution_count": 13,
   "id": "28594123-8312-436a-a53a-566f53fc83b9",
   "metadata": {},
   "outputs": [
    {
     "name": "stdout",
     "output_type": "stream",
     "text": [
      "[array(0.99995), array(0.99875251), array(0.99504108), array(0.98065146)]\n"
     ]
    }
   ],
   "source": [
    "# Simulate exact values, measuring Z_62\n",
    "\n",
    "KI_exact_values = [estimator_exact.run([(qc,observable)]).result()[0].data.evs for qc in KI_circuits]\n",
    "print(KI_exact_values)"
   ]
  },
  {
   "cell_type": "code",
   "execution_count": 14,
   "id": "bdab440f-41d0-4b54-8cc3-fdd6e7d3affd",
   "metadata": {},
   "outputs": [],
   "source": [
    "import warnings\n",
    "warnings.filterwarnings(\"ignore\") # Ignore DepreciationWarnings temporarily"
   ]
  },
  {
   "cell_type": "code",
   "execution_count": 15,
   "id": "a2f81dba-4096-4de6-9664-4dcacc811244",
   "metadata": {},
   "outputs": [],
   "source": [
    "# KI_qem_results = [[[0 for i in range(pauli_twirling_reps)] for j in range(num_noise_factors)] for k in range(num_different_layers)]\n",
    "\n",
    "# for i_layers in range(num_different_layers):\n",
    "#     qc = KI_circuits[i_layers]\n",
    "\n",
    "#     for i_noise_factor in range(num_noise_factors):\n",
    "        \n",
    "#         pm = pass_managers[i_noise_factor]\n",
    "        \n",
    "#         for i_pauli_rep in range(pauli_twirling_reps):\n",
    "\n",
    "#             if KI_qem_results[i_layers][i_noise_factor][i_pauli_rep] == 0:\n",
    "#                 # Parse circuit\n",
    "#                 parsed_qc = pm.run(qc)\n",
    "                \n",
    "#                 # Noisy simulation of circuit\n",
    "#                 qem_result = estimator_noisy.run([(parsed_qc, observable)]).result()[0].data.evs\n",
    "#                 KI_qem_results[i_layers][i_noise_factor][i_pauli_rep] = qem_result     \n",
    "    \n",
    "#                 clear_output(wait=True)\n",
    "#                 print('Done for ', i_layers, i_noise_factor, i_pauli_rep)\n",
    "        \n",
    "#         # Regularly save simulation results\n",
    "#         np.save('ki_qem_results.npy', np.array(KI_qem_results, dtype=object))"
   ]
  },
  {
   "cell_type": "code",
   "execution_count": 16,
   "id": "0b9cb33c-eb05-463e-8c4b-d3761b41b5fc",
   "metadata": {},
   "outputs": [],
   "source": [
    "KI_qem_results_np = np.load('job_data/ki_qem_results.npy', allow_pickle=True)\n",
    "KI_qem_results = [[[0 for i in range(pauli_twirling_reps)] for j in range(num_noise_factors)] for l in range(num_different_layers)]\n",
    "\n",
    "for i in range(num_different_layers):\n",
    "    for k in range(num_noise_factors):       \n",
    "        for l in range(pauli_twirling_reps):\n",
    "            KI_qem_results[i][k][l] = float(KI_qem_results_np[i][k][l])"
   ]
  },
  {
   "cell_type": "code",
   "execution_count": 17,
   "id": "6eb65568-7c5f-44a7-9f54-f6a76efc2b24",
   "metadata": {},
   "outputs": [],
   "source": [
    "# Average over pauli twirling repetitions, then do ZNE\n",
    "\n",
    "KI_extrapolated_qem_results = [0 for i in range(num_different_layers)]\n",
    "\n",
    "for i_layers in range(num_different_layers):\n",
    "        \n",
    "    qem_results_fixed_qc = KI_qem_results[i_layers]\n",
    "    f1,f3,f5 = [np.mean(x) for x in qem_results_fixed_qc]\n",
    "    try:\n",
    "        extrap_result = estimate_f0(f1,f3,f5)\n",
    "    except:\n",
    "        extrap_result = f1\n",
    "        \n",
    "    KI_extrapolated_qem_results[i_layers] = extrap_result"
   ]
  },
  {
   "cell_type": "code",
   "execution_count": 18,
   "id": "c20dfdde-5f96-473e-9771-11500cc652bf",
   "metadata": {},
   "outputs": [],
   "source": [
    "KI_averaged_qem_fidelities = [KI_extrapolated_qem_results[i]/KI_exact_values[i] for i in range(num_different_layers)]"
   ]
  },
  {
   "cell_type": "code",
   "execution_count": 19,
   "id": "ef654164-8e45-49d3-8466-f13878364e4c",
   "metadata": {},
   "outputs": [
    {
     "name": "stdout",
     "output_type": "stream",
     "text": [
      "Kicked Ising QEM fidelities: [1.0006287902489828, 0.9774398904973399, 0.9306093949430276, 0.8938556639308423]\n"
     ]
    }
   ],
   "source": [
    "print('Kicked Ising QEM fidelities:', KI_averaged_qem_fidelities)"
   ]
  },
  {
   "cell_type": "markdown",
   "id": "5e4cac41-cb8b-4281-8095-b1419510abdd",
   "metadata": {},
   "source": [
    "# Simulate benchmarking circuits"
   ]
  },
  {
   "cell_type": "code",
   "execution_count": 20,
   "id": "72fd8595-0fee-45cb-9ab9-5100a3f6a3dd",
   "metadata": {},
   "outputs": [],
   "source": [
    "# bm_qem_results = [[[[0 for i in range(pauli_twirling_reps)] for j in range(num_noise_factors)] for k in range(benchmarking_circuits_per_layer)] for l in range(num_different_layers)]\n",
    "\n",
    "# for i_layers in range(4):\n",
    "\n",
    "#     for i_reps in range(benchmarking_circuits_per_layer):\n",
    "#         for i_noise_factor in range(num_noise_factors):\n",
    "            \n",
    "#             pm = pass_managers[i_noise_factor]\n",
    "            \n",
    "#             for i_pauli_rep in range(pauli_twirling_reps):\n",
    "                \n",
    "#                 # Parse circuit\n",
    "#                 bm_gates_list = bm_circ_as_list(num_qubits, circuit_layers[i_layers], nearest_neighbour_layers, qubits_to_correct)\n",
    "#                 qc = gates_list_to_transpiled_circuit(bm_gates_list, num_qubits)\n",
    "#                 parsed_qc = pm.run(qc)\n",
    "\n",
    "#                 # Noisy simulation of circuit\n",
    "#                 qem_result = estimator_noisy.run([(parsed_qc, observable)]).result()[0].data.evs\n",
    "#                 bm_qem_results[i_layers][i_reps][i_noise_factor][i_pauli_rep] = qem_result\n",
    "\n",
    "#                 clear_output(wait=True)\n",
    "#                 print('Done for ', i_layers, i_reps, i_noise_factor, i_pauli_rep)\n",
    "        \n",
    "#         # Regularly save simulation results\n",
    "#         np.save('bm_qem_results.npy', np.array(bm_qem_results, dtype=object))"
   ]
  },
  {
   "cell_type": "code",
   "execution_count": 21,
   "id": "da34cfe7-2dce-4a49-948f-28f7bcb52bc9",
   "metadata": {},
   "outputs": [],
   "source": [
    "bm_qem_results_np = np.load('job_data/bm_qem_results.npy', allow_pickle=True)\n",
    "bm_qem_results = [[[[0 for i in range(pauli_twirling_reps)] for j in range(num_noise_factors)] for k in range(benchmarking_circuits_per_layer)] for l in range(num_different_layers)]\n",
    "\n",
    "for i in range(num_different_layers):\n",
    "    for j in range(benchmarking_circuits_per_layer):\n",
    "        for k in range(num_noise_factors):       \n",
    "            for l in range(pauli_twirling_reps):\n",
    "                bm_qem_results[i][j][k][l] = float(bm_qem_results_np[i][j][k][l])"
   ]
  },
  {
   "cell_type": "code",
   "execution_count": 22,
   "id": "ce10efac-09eb-49a6-9d57-3a6c4cee9b46",
   "metadata": {},
   "outputs": [
    {
     "name": "stdout",
     "output_type": "stream",
     "text": [
      "3 9\n"
     ]
    }
   ],
   "source": [
    "# Average over pauli twirling repetitions, then do ZNE\n",
    "\n",
    "bm_extrapolated_qem_results = [[0]*benchmarking_circuits_per_layer for i in range(num_different_layers)]\n",
    "\n",
    "for i_layers in range(num_different_layers):\n",
    "    for i_reps in range(benchmarking_circuits_per_layer):\n",
    "        \n",
    "        qem_results_fixed_qc = bm_qem_results[i_layers][i_reps]\n",
    "        f1,f3,f5 = [np.mean(x) for x in qem_results_fixed_qc]\n",
    "        \n",
    "        try:\n",
    "            extrap_result = estimate_f0(f1,f3,f5)\n",
    "        except:\n",
    "            extrap_result = 0\n",
    "        bm_extrapolated_qem_results[i_layers][i_reps] = extrap_result\n",
    "        clear_output(wait=True)\n",
    "        print(i_layers, i_reps)"
   ]
  },
  {
   "cell_type": "code",
   "execution_count": 23,
   "id": "b0696908-efbc-418f-ae72-0f63e350eb8d",
   "metadata": {},
   "outputs": [],
   "source": [
    "# Average over the 10 repetitions for each fixed number of layers\n",
    "bm_averaged_qem_results = [abs(np.mean(x)) for x in bm_extrapolated_qem_results]\n",
    "bm_averaged_qem_stds = [np.std(x) for x in bm_extrapolated_qem_results]\n",
    "bm_yerr = [bm_averaged_qem_stds[:4],bm_averaged_qem_stds[:4]]"
   ]
  },
  {
   "cell_type": "code",
   "execution_count": 24,
   "id": "f4d62fba-7a78-451b-99e5-70c317486955",
   "metadata": {},
   "outputs": [
    {
     "name": "stdout",
     "output_type": "stream",
     "text": [
      "Benchmarked QEM fidelities: [0.994113145850922, 0.9701818610492138, 0.9377026052039794, 0.8955544332436389]\n"
     ]
    }
   ],
   "source": [
    "print('Benchmarked QEM fidelities:', bm_averaged_qem_results)"
   ]
  },
  {
   "cell_type": "code",
   "execution_count": 25,
   "id": "fd01ae49-1097-406a-9eaf-ba28850fc84b",
   "metadata": {},
   "outputs": [
    {
     "data": {
      "image/png": "[encoded data removed]",
      "text/plain": [
       "<Figure size 1500x750 with 1 Axes>"
      ]
     },
     "metadata": {},
     "output_type": "display_data"
    }
   ],
   "source": [
    "import matplotlib.pyplot as plt\n",
    "plt.rcParams['text.usetex'] = True\n",
    "plt.rcParams['text.latex.preamble'] = r'\\usepackage{amsmath} \\usepackage{amssymb}'\n",
    "\n",
    "plt.figure(dpi=300, figsize=(5,2.5))\n",
    "\n",
    "\n",
    "plt.plot([-10, 30],[1,1],'--',color='black')\n",
    "\n",
    "\n",
    "plt.plot(circuit_layers[:4], KI_averaged_qem_fidelities[:4], marker='x', color='tab:orange', label=r'Kicked Ising circuits')\n",
    "\n",
    "plt.errorbar(circuit_layers[:4], bm_averaged_qem_results[:4], yerr=bm_yerr, marker='x', color='tab:blue', capsize=3, label=r'Benchmarking circuits $\\pm 1\\sigma$')\n",
    "\n",
    "plt.ylim([0.5,1.2])\n",
    "plt.xlabel('Trotter layers')\n",
    "plt.ylabel(r'$\\langle O \\rangle_\\text{noisy} / \\langle O \\rangle_\\text{ideal}$')\n",
    "plt.xticks(circuit_layers[:4]);\n",
    "\n",
    "\n",
    "\n",
    "handles, labels = plt.gca().get_legend_handles_labels() \n",
    "order = [1,0]\n",
    "plt.legend([handles[idx] for idx in order],[labels[idx] for idx in order])\n",
    "plt.ylim([0.85, 1.01])\n",
    "plt.xlim([0, 21])\n",
    "plt.savefig('10-qubit-qem-benchmarking.pdf', bbox_inches='tight')\n",
    "plt.show()"
   ]
  }
 ],
 "metadata": {
  "kernelspec": {
   "display_name": "Python 3 (ipykernel)",
   "language": "python",
   "name": "python3"
  },
  "language_info": {
   "codemirror_mode": {
    "name": "ipython",
    "version": 3
   },
   "file_extension": ".py",
   "mimetype": "text/x-python",
   "name": "python",
   "nbconvert_exporter": "python",
   "pygments_lexer": "ipython3",
   "version": "3.12.7"
  }
 },
 "nbformat": 4,
 "nbformat_minor": 5
}
